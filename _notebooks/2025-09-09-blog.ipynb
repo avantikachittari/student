{
 "cells": [
  {
   "cell_type": "code",
   "execution_count": null,
   "metadata": {
    "vscode": {
     "languageId": "html"
    }
   },
   "outputs": [],
   "source": [
    "---\n",
    "comments: true\n",
    "layout: post\n",
    "title: Personal Blog\n",
    "description: Blog for coding journey\n",
    "permalink: /Blog/\n",
    "type: ccc\n",
    "author: Avantika Chittari\n",
    "---"
   ]
  },
  {
   "cell_type": "markdown",
   "metadata": {},
   "source": [
    "Building My About Page & Adding jokes.ipynb\n",
    "\n",
    "This week, I worked on polishing up my project by creating an About page and adding a fun little extra: a notebook called jokes.ipynb.\n",
    "\n",
    "Making the About Page\n",
    "\n",
    "I wanted my site to have a personal touch, so I created an About page that explains what the project is, why I’m making it, and a bit about myself. It’s simple but effective:\n",
    "\n",
    "Introduces me and what I’m working on\n",
    "\n",
    "Keeps the design clean so it matches the rest of the project\n",
    "\n",
    "Makes the site feel more complete\n",
    "\n",
    "It’s nice to have a spot where visitors can understand the purpose of everything in one place.\n",
    "\n",
    "Adding jokes.ipynb\n",
    "\n",
    "While working on the project, I thought it would be fun to sneak in some humor. That’s when I made a jokes.ipynb file. It’s just a Jupyter Notebook filled with some code-based jokes, playful outputs, and silly print statements.\n",
    "\n",
    "For example, one joke is about recursion—you’ll find it only if you keep scrolling 😏. Another is a math pun that appears when you run a cell. It makes coding feel a little lighter, and it’s a reminder that projects don’t always have to be serious to be meaningful.\n",
    "\n",
    "Why This Matters\n",
    "\n",
    "Adding the About page was about clarity and communication. Adding jokes.ipynb was about fun and creativity. Together, they show that projects can balance professional structure with personal expression."
   ]
  },
  {
   "cell_type": "markdown",
   "metadata": {},
   "source": [
    "How I Added M&Ms and Learned About Themes 🍫🍬\n",
    "\n",
    "When I was working on my project, I decided to make it sweeter—literally—by adding M&Ms into the design. What started out as just a small idea turned into a fun way to learn how to change and create themes in coding.\n",
    "\n",
    "Step 1: Adding the M&Ms\n",
    "\n",
    "The first challenge was figuring out how to include M&Ms into the game world. I experimented with graphics and backgrounds to get that colorful, candy-filled look. This wasn’t just about decoration—it taught me how assets are added, placed, and styled in a project.\n",
    "\n",
    "Step 2: Designing a Candy Theme\n",
    "\n",
    "Once I had M&Ms in place, I realized I needed the whole theme to match. Instead of leaving the rest of the world plain, I worked on making everything feel like a \"chocolate world\" with the candy river. Here I learned how changing visuals and colors can completely shift the mood of a project.\n",
    "\n",
    "For example:\n",
    "\n",
    "Bright, playful colors = fun and lighthearted 🎉\n",
    "\n",
    "Dark, rich tones = mysterious and dramatic 🌌\n",
    "\n",
    "Step 3: Lessons Learned\n",
    "\n",
    "Every step I took with M&Ms gave me a learning opportunity:\n",
    "\n",
    "Creativity in coding: Themes aren’t just about looks; they influence how players feel in the game.\n",
    "\n",
    "Problem-solving: Adding new graphics meant troubleshooting placement, scaling, and design consistency.\n",
    "\n",
    "Experimentation: I tried different styles before finding one that worked—reminding me that coding is about testing and adjusting.\n",
    "\n",
    "Final Thoughts\n",
    "\n",
    "What started as a candy-inspired idea turned into a lesson on theming and design in coding. Adding M&Ms wasn’t just about making things look sweet—it helped me understand how small changes can transform the entire experience.\n",
    "\n",
    "Sometimes, the best way to learn is by following your curiosity. In my case, that curiosity just happened to be… M&Ms. 🍫✨\n"
   ]
  },
  {
   "cell_type": "markdown",
   "metadata": {},
   "source": [
    "Brainstorming\n",
    "\n",
    "We started by brainstorming ideas for how to add M&Ms into the project.\n",
    "\n",
    "Everyone shared creative suggestions (candy world, chocolate river, colorful themes).\n",
    "\n",
    "We decided to divide the work into steps so each person knew what step we were on, so we wouldn't have issues with overriding files."
   ]
  },
  {
   "cell_type": "markdown",
   "metadata": {},
   "source": [
    "🎯 Step 1: Add a Popup Function\n",
    "\n",
    "First, I created a new function inside my GameLevelChocolate class called showImagePopup().\n",
    "\n",
    "This function builds a div element, adds an img inside it, and places a Close button so players can dismiss the popup\n",
    "\n",
    "Step 2: Connect It to the Blue M&M\n",
    "\n",
    "Inside the Blue M&M’s interact method, I added a call to this function:"
   ]
  },
  {
   "cell_type": "code",
   "execution_count": null,
   "metadata": {
    "vscode": {
     "languageId": "javascript"
    }
   },
   "outputs": [],
   "source": [
    "showImagePopup(src) {\n",
    "    if (this.imagePopup) {\n",
    "      document.body.removeChild(this.imagePopup);\n",
    "    }\n",
    "  \n",
    "    this.imagePopup = document.createElement(\"div\");\n",
    "    this.imagePopup.style.position = \"absolute\";\n",
    "    this.imagePopup.style.top = \"50%\";\n",
    "    this.imagePopup.style.left = \"50%\";\n",
    "    this.imagePopup.style.transform = \"translate(-50%, -50%)\";\n",
    "    this.imagePopup.style.background = \"white\";\n",
    "    this.imagePopup.style.padding = \"10px\";\n",
    "    this.imagePopup.style.border = \"3px solid black\";\n",
    "    this.imagePopup.style.zIndex = \"10000\";\n",
    "  \n",
    "    const img = document.createElement(\"img\");\n",
    "    img.src = src;\n",
    "    img.style.maxWidth = \"400px\";\n",
    "    img.style.maxHeight = \"300px\";\n",
    "    this.imagePopup.appendChild(img);\n",
    "  \n",
    "    const btn = document.createElement(\"button\");\n",
    "    btn.textContent = \"Close\";\n",
    "    btn.style.display = \"block\";\n",
    "    btn.style.margin = \"10px auto 0\";\n",
    "    btn.onclick = () => {\n",
    "      document.body.removeChild(this.imagePopup);\n",
    "      this.imagePopup = null;\n",
    "    };\n",
    "    this.imagePopup.appendChild(btn);\n",
    "  \n",
    "    document.body.appendChild(this.imagePopup);\n",
    "  }\n",
    "  "
   ]
  },
  {
   "cell_type": "markdown",
   "metadata": {},
   "source": [
    "🎯 Step 2: Connect It to the Blue M&M\n",
    "\n",
    "Inside the Blue M&M’s interact method, I added a call to this function:"
   ]
  },
  {
   "cell_type": "code",
   "execution_count": null,
   "metadata": {
    "vscode": {
     "languageId": "javascript"
    }
   },
   "outputs": [],
   "source": [
    "interact: () => {\n",
    "    this.showImagePopup(path + \"/images/mm/congrats.png\");\n",
    "    this.triggerQuiz();\n",
    "  }\n",
    "  "
   ]
  },
  {
   "cell_type": "markdown",
   "metadata": {},
   "source": [
    "Now, when the player interacts with the Blue M&M:\n",
    "\n",
    "A popup image (I used congrats.png) appears at the center of the screen.\n",
    "\n",
    "After that, the quiz still runs like before."
   ]
  },
  {
   "cell_type": "markdown",
   "metadata": {},
   "source": [
    "For Lesson 3.10 on Lists, our team is creating a gamified learning experience by expanding our M&M Game with Levels 3 and 4, integrating feedback like adding clear arrows and a 2D background for better clarity and design. The goal is to help students understand lists in Python and arrays in JavaScript by interacting with colored M&Ms, each teaching one concept: in Level 3 (Python), Red introduces what a list is, Blue explains indexing, Green covers appending, and Yellow explains removing elements; in Level 4 (JavaScript), Orange introduces arrays, Purple covers indexing, Pink explains push, and Brown demonstrates pop and slice. After completing each level, players will take a quick quiz to reinforce the concepts. The lesson flow begins with a short discussion on why lists/arrays are useful, moves into gameplay and quizzes, and ends with a debrief comparing Python and JavaScript. Team roles are divided among coding, visuals, lesson planning, and quiz design, with everyone contributing to testing and feedback. This approach ensures students not only learn the concepts but also engage with them in an interactive and memorable way."
   ]
  },
  {
   "cell_type": "code",
   "execution_count": null,
   "metadata": {
    "vscode": {
     "languageId": "javascript"
    }
   },
   "outputs": [],
   "source": []
  }
 ],
 "metadata": {
  "language_info": {
   "name": "python"
  }
 },
 "nbformat": 4,
 "nbformat_minor": 2
}
