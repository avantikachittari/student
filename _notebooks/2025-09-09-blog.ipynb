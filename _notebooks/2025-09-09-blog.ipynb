{
 "cells": [
  {
   "cell_type": "code",
   "execution_count": null,
   "metadata": {
    "vscode": {
     "languageId": "html"
    }
   },
   "outputs": [],
   "source": [
    "---\n",
    "comments: true\n",
    "layout: post\n",
    "title: Personal Blog\n",
    "description: Blog for coding journey\n",
    "permalink: /Blog/\n",
    "type: ccc\n",
    "author: Avantika Chittari\n",
    "---"
   ]
  },
  {
   "cell_type": "markdown",
   "metadata": {},
   "source": [
    "Building My About Page & Adding jokes.ipynb\n",
    "\n",
    "This week, I worked on polishing up my project by creating an About page and adding a fun little extra: a notebook called jokes.ipynb.\n",
    "\n",
    "Making the About Page\n",
    "\n",
    "I wanted my site to have a personal touch, so I created an About page that explains what the project is, why I’m making it, and a bit about myself. It’s simple but effective:\n",
    "\n",
    "Introduces me and what I’m working on\n",
    "\n",
    "Keeps the design clean so it matches the rest of the project\n",
    "\n",
    "Makes the site feel more complete\n",
    "\n",
    "It’s nice to have a spot where visitors can understand the purpose of everything in one place.\n",
    "\n",
    "Adding jokes.ipynb\n",
    "\n",
    "While working on the project, I thought it would be fun to sneak in some humor. That’s when I made a jokes.ipynb file. It’s just a Jupyter Notebook filled with some code-based jokes, playful outputs, and silly print statements.\n",
    "\n",
    "For example, one joke is about recursion—you’ll find it only if you keep scrolling 😏. Another is a math pun that appears when you run a cell. It makes coding feel a little lighter, and it’s a reminder that projects don’t always have to be serious to be meaningful.\n",
    "\n",
    "Why This Matters\n",
    "\n",
    "Adding the About page was about clarity and communication. Adding jokes.ipynb was about fun and creativity. Together, they show that projects can balance professional structure with personal expression."
   ]
  }
 ],
 "metadata": {
  "language_info": {
   "name": "python"
  }
 },
 "nbformat": 4,
 "nbformat_minor": 2
}
