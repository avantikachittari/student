{
 "cells": [
  {
   "cell_type": "code",
   "execution_count": null,
   "id": "ab93c5f4",
   "metadata": {
    "vscode": {
     "languageId": "javascript"
    }
   },
   "outputs": [],
   "source": [
    "---\n",
    "title: \"3.3 Homework: Variables & Arithmetic in Java\"\n",
    "description: \"Apply your skills of math, logic, and coding.\"\n",
    "layout: post\n",
    "permalink: /javascript/mathematical-expressions/Homework\n",
    "---"
   ]
  },
  {
   "cell_type": "markdown",
   "id": "5b39efe0",
   "metadata": {},
   "source": [
    "# 📝 3.3 Homework: Variables & Arithmetic in Java\n",
    "\n",
    "## Learning Objectives\n",
    "1. Use **variables** in Java.  \n",
    "2. Follow **step-by-step sequencing**.  \n",
    "3. Use **arithmetic operators** (`+`, `-`, `*`, `/`).  \n",
    "\n",
    "---\n",
    "\n",
    "## Part 1: Simple Variables\n",
    "\n",
    "Write a Java program that does the following:\n",
    "\n",
    "1. Create a variable `grade1` and assign it the value `90`.  \n",
    "2. Create a variable `grade2` and assign it the value `80`.  \n",
    "3. Calculate the average of `grade1` and `grade2` and store it in `averageGrade`.  \n",
    "4. Display the average using `System.out.println()`.\n",
    "\n",
    "> Example Output:  \n",
    "> `The average is 85.0`  \n"
   ]
  },
  {
   "cell_type": "code",
   "execution_count": 5,
   "id": "8d539eb9",
   "metadata": {
    "vscode": {
     "languageId": "javascript"
    }
   },
   "outputs": [
    {
     "data": {
      "application/javascript": "public class AverageGrades {\n    public static void main(String[] args) {\n        // 1. Create variables\n        int grade1 = 90;\n        int grade2 = 80;\n\n        // 2. Calculate the average\n        double averageGrade = (grade1 + grade2) / 2.0; // Use 2.0 to get a double result\n\n        // 3. Display the average\n        System.out.println(\"The average is \" + averageGrade);\n    }\n}\n",
      "text/plain": [
       "<IPython.core.display.Javascript object>"
      ]
     },
     "metadata": {},
     "output_type": "display_data"
    }
   ],
   "source": [
    "%%js\n",
    "public class AverageGrades {\n",
    "    public static void main(String[] args) {\n",
    "        // 1. Create variables\n",
    "        int grade1 = 90;\n",
    "        int grade2 = 80;\n",
    "        \n",
    "        // 2. Calculate the average\n",
    "        double averageGrade = (grade1 + grade2) / 2.0; // Use 2.0 to get a double result\n",
    "        \n",
    "        // 3. Display the average\n",
    "        System.out.println(\"The average is \" + averageGrade);\n",
    "    }\n",
    "}"
   ]
  },
  {
   "cell_type": "markdown",
   "id": "73b282f8",
   "metadata": {},
   "source": [
    "## Part 2: Arithmetic Practice\n",
    "\n",
    "Write a Java program to calculate these:\n",
    "\n",
    "1. `num1 = 10`  \n",
    "2. `num2 = 5`  \n",
    "3. `sum = num1 + num2`  \n",
    "4. `difference = num1 - num2`  \n",
    "5. `product = num1 * num2`  \n",
    "6. `quotient = num1 / num2`  \n",
    "7. Display all results using `System.out.println()`.  \n",
    "\n",
    "> Example Output:  \n",
    "> ```\n",
    "> Sum: 15\n",
    "> Difference: 5\n",
    "> Product: 50\n",
    "> Quotient: 2\n",
    "> ```"
   ]
  },
  {
   "cell_type": "code",
   "execution_count": 3,
   "id": "d1253a42",
   "metadata": {
    "vscode": {
     "languageId": "javascript"
    }
   },
   "outputs": [
    {
     "data": {
      "application/javascript": "public class ArithmeticPractice {\n    public static void main(String[] args) {\n        // 1 & 2. Create variables\n        int num1 = 10;\n        int num2 = 5;\n\n        // 3-6. Perform arithmetic operations\n        int sum = num1 + num2;\n        int difference = num1 - num2;\n        int product = num1 * num2;\n        int quotient = num1 / num2; // Integer division\n\n        // 7. Display results\n        System.out.println(\"Sum: \" + sum);\n        System.out.println(\"Difference: \" + difference);\n        System.out.println(\"Product: \" + product);\n        System.out.println(\"Quotient: \" + quotient);\n    }\n}\n",
      "text/plain": [
       "<IPython.core.display.Javascript object>"
      ]
     },
     "metadata": {},
     "output_type": "display_data"
    }
   ],
   "source": [
    "%%js\n",
    "public class ArithmeticPractice {\n",
    "    public static void main(String[] args) {\n",
    "        // 1 & 2. Create variables\n",
    "        int num1 = 10;\n",
    "        int num2 = 5;\n",
    "        \n",
    "        // 3-6. Perform arithmetic operations\n",
    "        int sum = num1 + num2;\n",
    "        int difference = num1 - num2;\n",
    "        int product = num1 * num2;\n",
    "        int quotient = num1 / num2; // Integer division\n",
    "        \n",
    "        // 7. Display results\n",
    "        System.out.println(\"Sum: \" + sum);\n",
    "        System.out.println(\"Difference: \" + difference);\n",
    "        System.out.println(\"Product: \" + product);\n",
    "        System.out.println(\"Quotient: \" + quotient);\n",
    "    }\n",
    "}\n"
   ]
  },
  {
   "cell_type": "markdown",
   "id": "b91b4ddf",
   "metadata": {},
   "source": [
    "## Part 3: Step-by-Step Sequencing\n",
    "\n",
    "Write a Java program that does this sequence:\n",
    "\n",
    "1. Set `num1 = 2` and `num2 = 3`.  \n",
    "2. Calculate `num3 = num1 + num2`.  \n",
    "3. Calculate `num4 = num3 * 2`.  \n",
    "4. Display `num3` and `num4` using `System.out.println()`.  \n",
    "\n",
    "> This shows **sequencing**: each step depends on the previous one.\n"
   ]
  },
  {
   "cell_type": "code",
   "execution_count": null,
   "id": "7e3feb2d",
   "metadata": {
    "vscode": {
     "languageId": "javascript"
    }
   },
   "outputs": [],
   "source": []
  },
  {
   "cell_type": "markdown",
   "id": "67a8e865",
   "metadata": {},
   "source": [
    "## Part 4: Mixed Arithmetic\n",
    "\n",
    "1. Set `a = 8`, `b = 4`, `c = 2`.  \n",
    "2. Calculate:  \n",
    "   - `result1 = a + b * c`  \n",
    "   - `result2 = (a + b) * c`  \n",
    "3. Display `result1` and `result2` using `System.out.println()`.  \n",
    "\n",
    "> This helps practice **order of operations**."
   ]
  },
  {
   "cell_type": "code",
   "execution_count": null,
   "id": "713c4dad",
   "metadata": {
    "vscode": {
     "languageId": "javascript"
    }
   },
   "outputs": [],
   "source": []
  }
 ],
 "metadata": {
  "kernelspec": {
   "display_name": ".venv",
   "language": "python",
   "name": "python3"
  },
  "language_info": {
   "codemirror_mode": {
    "name": "ipython",
    "version": 3
   },
   "file_extension": ".py",
   "mimetype": "text/x-python",
   "name": "python",
   "nbconvert_exporter": "python",
   "pygments_lexer": "ipython3",
   "version": "3.12.5"
  }
 },
 "nbformat": 4,
 "nbformat_minor": 5
}
