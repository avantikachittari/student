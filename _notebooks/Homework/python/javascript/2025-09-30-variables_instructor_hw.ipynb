{
 "cells": [
  {
   "cell_type": "raw",
   "metadata": {
    "vscode": {
     "languageId": "raw"
    }
   },
   "source": [
    "---\n",
    "layout: post\n",
    "title: Python Variables and assignments\n",
    "description: Assign variables and examine in Debugger using this notebook.\n",
    "permalink: /python/variables-instructor-hw\n",
    "author: John Mortensen\n",
    "---"
   ]
  },
  {
   "cell_type": "markdown",
   "metadata": {},
   "source": [
    "## Python Variables: Homework Notbook`\n",
    "\n",
    "Use this Notbook to perform Python Variable Homework Hacks.\n",
    "\n",
    "---"
   ]
  },
  {
   "cell_type": "code",
   "execution_count": null,
   "metadata": {},
   "outputs": [
    {
     "name": "stdout",
     "output_type": "stream",
     "text": [
      "Alice\n",
      "user_profile: {'id': 101, 'name': 'Alice', 'email': 'alice@example.com', 'active': True, 'scores': [0.91, 0.87, 0.76, 0.55, 0.92], 'roles': ['student', 'scrummer'], 'last_login': None} | type: <class 'dict'>\n",
      "user_profile[\"name\"]: Alice | type: <class 'str'>\n"
     ]
    }
   ],
   "source": [
    "'''\n",
    "Add-Dictionary Homework Instructions:\n",
    "- Add multi-line comment to describe purpose of primitive types, replace existing single line comment\n",
    "- Add multi-line comment to describe purpose of dictionary type, replace existing single line comment \n",
    "- Add dictionary inside the user_profile dictionary, a favorites dictionary as dictionary in user_profile \n",
    "- Print the user_profile.favorites dictionary \n",
    "'''\n",
    "\n",
    "# --- Primitive Types ---\n",
    "user_id = 101            # int: unique user ID\n",
    "user_name = 'Alice'      # str: user name\n",
    "user_email = 'alice@example.com' # str: user email\n",
    "is_active = True         # bool: is the user active?\n",
    "last_login = None        # NoneType: no login yet\n",
    "\n",
    "# --- Reference Types ---\n",
    "user_profile = { # dict: user profile as a dictionary\n",
    "    'id': user_id,\n",
    "    'name': user_name,\n",
    "    'email': user_email,\n",
    "    'active': is_active,\n",
    "    'scores': [0.91, 0.87, 0.76, 0.55, 0.92], # reference to a list of float: user scores\n",
    "    'roles': ['student', 'scrummer'], # reference to a list of str: user roles\n",
    "    'last_login': last_login\n",
    "}  # dict: user profile as a dictionary\n",
    "\n",
    "print(user_profile['name'])\n",
    "print('user_profile:', user_profile, '| type:', type(user_profile))\n",
    "print('user_profile[\"name\"]:', user_profile['name'], '| type:', type(user_profile['name']))\n"
   ]
  },
  {
   "cell_type": "code",
   "execution_count": 1,
   "metadata": {},
   "outputs": [
    {
     "name": "stdout",
     "output_type": "stream",
     "text": [
      "{'color': 'blue', 'food': 'pizza', 'subject': 'math'}\n",
      "user_profile: {'id': 101, 'name': 'Alice', 'email': 'alice@example.com', 'active': True, 'scores': [0.91, 0.87, 0.76, 0.55, 0.92], 'roles': ['student', 'scrummer'], 'last_login': None, 'favorites': {'color': 'blue', 'food': 'pizza', 'subject': 'math'}} | type: <class 'dict'>\n",
      "user_profile[\"name\"]: Alice | type: <class 'str'>\n"
     ]
    }
   ],
   "source": [
    "'''\n",
    "--- Primitive Types ---\n",
    "Primitive types are the most basic data types in Python that store single values.\n",
    "- int: stores integer numbers\n",
    "- str: stores text\n",
    "- bool: stores True or False\n",
    "- NoneType: represents the absence of a value\n",
    "'''\n",
    "\n",
    "user_id = 101            \n",
    "user_name = 'Alice'      \n",
    "user_email = 'alice@example.com'\n",
    "is_active = True         \n",
    "last_login = None        \n",
    "\n",
    "'''\n",
    "--- Dictionary Type ---\n",
    "A dictionary is a collection of key-value pairs, allowing structured storage of related data.\n",
    "Keys are unique, and values can be any data type, including other dictionaries or lists.\n",
    "'''\n",
    "\n",
    "# --- Reference Types ---\n",
    "user_profile = { \n",
    "    'id': user_id,\n",
    "    'name': user_name,\n",
    "    'email': user_email,\n",
    "    'active': is_active,\n",
    "    'scores': [0.91, 0.87, 0.76, 0.55, 0.92], \n",
    "    'roles': ['student', 'scrummer'], \n",
    "    'last_login': last_login,\n",
    "    'favorites': {  # nested dictionary for user's favorite things\n",
    "        'color': 'blue',\n",
    "        'food': 'pizza',\n",
    "        'subject': 'math'\n",
    "    }\n",
    "}\n",
    "\n",
    "# Print the favorites dictionary\n",
    "print(user_profile['favorites'])\n",
    "\n",
    "# Optional: print the whole user profile\n",
    "print('user_profile:', user_profile, '| type:', type(user_profile))\n",
    "print('user_profile[\"name\"]:', user_profile['name'], '| type:', type(user_profile['name']))\n"
   ]
  },
  {
   "cell_type": "code",
   "execution_count": 2,
   "metadata": {},
   "outputs": [
    {
     "name": "stdout",
     "output_type": "stream",
     "text": [
      "User(id=101, name=Alice, email=alice@example.com, active=True, scores=[0.91, 0.87, 0.76, 0.55, 0.92], roles=['student', 'scrummer'], last_login=None)\n",
      "User(id=102, name=John, email=john@example.com, active=True, scores=[0.85, 0.8, 0.78, 0.9, 0.88], roles=['teacher', 'technologist'], last_login=None)\n",
      "John ['teacher', 'technologist']\n"
     ]
    }
   ],
   "source": [
    "'''\n",
    "Add-Behavior Homework Instructions:\n",
    "- Comment the code for class\n",
    "- Comment the code for objects and dot notation usage\n",
    "- Add new tracking item, for instance the favorites dictionary created in Add-Dictionary Homework\n",
    "- Add behavior using the method to the class that uses the new tracking item\n",
    "'''\n",
    "\n",
    "class User:\n",
    "    def __init__(self, user_id, name, email, active, scores, roles, last_login):\n",
    "        self.id = user_id\n",
    "        self.name = name\n",
    "        self.email = email\n",
    "        self.active = active\n",
    "        self.scores = scores\n",
    "        self.roles = roles\n",
    "        self.last_login = last_login\n",
    "\n",
    "    def __repr__(self):\n",
    "        return (\n",
    "            f'User(id={self.id}, name={self.name}, email={self.email}, active={self.active}, ' f'scores={self.scores}, roles={self.roles}, last_login={self.last_login})'\n",
    "        )\n",
    "        \n",
    "    def add_score(self, score):\n",
    "        self.scores.append(score)\n",
    "        \n",
    "    def average_score(self):\n",
    "        return sum(self.scores) / len(self.scores) if self.scores else 0\n",
    "\n",
    "alice = User(101, 'Alice', 'alice@example.com', True, [0.91, 0.87, 0.76, 0.55, 0.92], ['student', 'scrummer'], None)\n",
    "john = User(102, 'John', 'john@example.com', True, [0.85, 0.80, 0.78, 0.90, 0.88], ['teacher', 'technologist'], None) \n",
    "print(alice)\n",
    "print(john)\n",
    "print(john.name, john.roles)"
   ]
  },
  {
   "cell_type": "code",
   "execution_count": 2,
   "metadata": {},
   "outputs": [
    {
     "name": "stdout",
     "output_type": "stream",
     "text": [
      "User(id=101, name=Alice, email=alice@example.com, active=True, scores=[0.91, 0.87, 0.76, 0.55, 0.92], roles=['student', 'scrummer'], last_login=None, favorites={'color': None, 'food': None, 'subject': None})\n",
      "User(id=102, name=John, email=john@example.com, active=True, scores=[0.85, 0.8, 0.78, 0.9, 0.88], roles=['teacher', 'technologist'], last_login=None, favorites={'color': None, 'food': None, 'subject': None})\n",
      "John ['teacher', 'technologist']\n",
      "Alice average score: 0.8019999999999999\n",
      "Alice favorites: {'color': 'blue', 'food': 'pizza', 'subject': 'math'}\n",
      "John favorites: {'color': 'green', 'food': 'sushi', 'subject': 'science'}\n"
     ]
    }
   ],
   "source": [
    "'''\n",
    "--- Class Definition ---\n",
    "The User class defines a blueprint for creating user objects.\n",
    "It stores user information and behavior related to the user.\n",
    "'''\n",
    "\n",
    "class User:\n",
    "    def __init__(self, user_id, name, email, active, scores, roles, last_login):\n",
    "        \"\"\"\n",
    "        Initialize a User object with basic attributes.\n",
    "        Each user has an ID, name, email, active status, a list of scores, roles, last login time.\n",
    "        \"\"\"\n",
    "        self.id = user_id\n",
    "        self.name = name\n",
    "        self.email = email\n",
    "        self.active = active\n",
    "        self.scores = scores\n",
    "        self.roles = roles\n",
    "        self.last_login = last_login\n",
    "        # New tracking item: favorites dictionary\n",
    "        self.favorites = {\n",
    "            'color': None,\n",
    "            'food': None,\n",
    "            'subject': None\n",
    "        }\n",
    "\n",
    "    def __repr__(self):\n",
    "        \"\"\"\n",
    "        Provides a readable string representation of the User object.\n",
    "        \"\"\"\n",
    "        return (\n",
    "            f'User(id={self.id}, name={self.name}, email={self.email}, active={self.active}, '\n",
    "            f'scores={self.scores}, roles={self.roles}, last_login={self.last_login}, favorites={self.favorites})'\n",
    "        )\n",
    "        \n",
    "    def add_score(self, score):\n",
    "        \"\"\"\n",
    "        Add a new score to the user's scores list.\n",
    "        \"\"\"\n",
    "        self.scores.append(score)\n",
    "        \n",
    "    def average_score(self):\n",
    "        \"\"\"\n",
    "        Calculate and return the average of the user's scores.\n",
    "        \"\"\"\n",
    "        return sum(self.scores) / len(self.scores) if self.scores else 0\n",
    "    \n",
    "    def update_favorites(self, color=None, food=None, subject=None):\n",
    "        \"\"\"\n",
    "        Update the user's favorites dictionary with new favorite items.\n",
    "        \"\"\"\n",
    "        if color:\n",
    "            self.favorites['color'] = color\n",
    "        if food:\n",
    "            self.favorites['food'] = food\n",
    "        if subject:\n",
    "            self.favorites['subject'] = subject\n",
    "\n",
    "# --- Objects and Dot Notation Usage ---\n",
    "# Creating instances of the User class\n",
    "alice = User(101, 'Alice', 'alice@example.com', True, [0.91, 0.87, 0.76, 0.55, 0.92], ['student', 'scrummer'], None)\n",
    "john = User(102, 'John', 'john@example.com', True, [0.85, 0.80, 0.78, 0.90, 0.88], ['teacher', 'technologist'], None) \n",
    "\n",
    "# Using dot notation to access attributes and call methods\n",
    "print(alice)  # prints all of Alice's info including favorites\n",
    "print(john)   # prints all of John's info including favorites\n",
    "print(john.name, john.roles)  # access specific attributes\n",
    "print('Alice average score:', alice.average_score())  # call a method\n",
    "\n",
    "# Update favorites using the new behavior method\n",
    "alice.update_favorites(color='blue', food='pizza', subject='math')\n",
    "john.update_favorites(color='green', food='sushi', subject='science')\n",
    "\n",
    "# Print updated favorites dictionaries\n",
    "print('Alice favorites:', alice.favorites)\n",
    "print('John favorites:', john.favorites)\n"
   ]
  },
  {
   "cell_type": "code",
   "execution_count": null,
   "metadata": {},
   "outputs": [],
   "source": []
  }
 ],
 "metadata": {
  "kernelspec": {
   "display_name": ".venv",
   "language": "python",
   "name": "python3"
  },
  "language_info": {
   "codemirror_mode": {
    "name": "ipython",
    "version": 3
   },
   "file_extension": ".py",
   "mimetype": "text/x-python",
   "name": "python",
   "nbconvert_exporter": "python",
   "pygments_lexer": "ipython3",
   "version": "3.12.5"
  }
 },
 "nbformat": 4,
 "nbformat_minor": 2
}
