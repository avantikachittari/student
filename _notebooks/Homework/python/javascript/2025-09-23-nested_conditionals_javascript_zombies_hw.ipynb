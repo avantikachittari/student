{
 "cells": [
  {
   "cell_type": "raw",
   "id": "859de763",
   "metadata": {
    "vscode": {
     "languageId": "raw"
    }
   },
   "source": [
    "---\n",
    "layout: post\n",
    "title: Conditionals in Javascript by Ctrl-Zombies\n",
    "description: Conditionals homework in Javascript\n",
    "permalink: /javascript/nested_conditionals/zombies/hw\n",
    "Author: Aneesh Deevi, Moiz Lukmani, Perry Say\n",
    "---"
   ]
  },
  {
   "cell_type": "markdown",
   "id": "eee8a8e6",
   "metadata": {},
   "source": [
    "# Nested Conditionals Javascript Homework"
   ]
  },
  {
   "cell_type": "markdown",
   "id": "ed97f2dd",
   "metadata": {},
   "source": [
    "## Practice Problems:"
   ]
  },
  {
   "cell_type": "markdown",
   "id": "c335a5d9",
   "metadata": {},
   "source": [
    "## Problem 1: Age and Movie Rating\n",
    "Write a program that asks for a person's age. If they are **under 13**, print *\"You can watch G or PG movies.\"* \n",
    "- If they are **13–17**, print *\"You can watch PG-13 movies.\"* \n",
    "- If they are **18 or older**, print *\"You can watch R-rated movies.\"*"
   ]
  },
  {
   "cell_type": "code",
   "execution_count": null,
   "id": "4a19f878",
   "metadata": {
    "vscode": {
     "languageId": "javascript"
    }
   },
   "outputs": [
    {
     "ename": "SyntaxError",
     "evalue": "invalid character '–' (U+2013) (2892895852.py, line 9)",
     "output_type": "error",
     "traceback": [
      "  \u001b[36mCell\u001b[39m\u001b[36m \u001b[39m\u001b[32mIn[7]\u001b[39m\u001b[32m, line 9\u001b[39m\n\u001b[31m    \u001b[39m\u001b[31m} else if (age <= 17) {  // 13–17\u001b[39m\n                                  ^\n\u001b[31mSyntaxError\u001b[39m\u001b[31m:\u001b[39m invalid character '–' (U+2013)\n"
     ]
    }
   ],
   "source": [
    "\n",
    "let ageInput = prompt(\"Enter age:\");\n",
    "let age = parseInt(ageInput);\n",
    "\n",
    "if (isNaN(age)) {\n",
    "  console.log(\"Please enter a valid number for age.\");\n",
    "} else {\n",
    "  if (age < 13) {\n",
    "    console.log(\"You can watch G or PG movies.\");\n",
    "  } else if (age <= 17) {  // 13–17\n",
    "    console.log(\"You can watch PG-13 movies.\");\n",
    "  } else {  // 18 or older\n",
    "    console.log(\"You can watch R-rated movies.\");\n",
    "  }\n",
    "}\n"
   ]
  },
  {
   "cell_type": "markdown",
   "id": "35f58f57",
   "metadata": {},
   "source": [
    "## Problem 2: Grade Categorizer\n",
    "Ask the user for a grade percentage (0–100).\n",
    "- If the grade is 90 or higher, log \"A\".\n",
    "- Else if it is 80–89, log \"B\".\n",
    "- Else if it is 70–79, log \"C\".\n",
    "- Else if it is 60–69, log \"D\".\n",
    "- Otherwise, log \"F\""
   ]
  },
  {
   "cell_type": "code",
   "execution_count": null,
   "id": "1e900dfd",
   "metadata": {
    "vscode": {
     "languageId": "javascript"
    }
   },
   "outputs": [],
   "source": [
    "let grade = parseInt(prompt(\"Enter grade percentage:\"));\n",
    "\n",
    "// TODO: Write your nested conditionals here\n",
    "if (grade >= __) {\n",
    "  console.log(\"letter\");\n",
    "} else {\n",
    "  if (grade >= __) {\n",
    "    console.log(\"letter\");\n",
    "  } else {\n",
    "    if (grade >= __) {\n",
    "      console.log(\"letter\");\n",
    "    } else {\n",
    "      if (grade >= __) {\n",
    "        console.log(\"letter\");\n",
    "      } else {\n",
    "        console.log(\"letter\");\n",
    "      }\n",
    "    }\n",
    "  }\n",
    "}"
   ]
  }
 ],
 "metadata": {
  "kernelspec": {
   "display_name": ".venv",
   "language": "python",
   "name": "python3"
  },
  "language_info": {
   "codemirror_mode": {
    "name": "ipython",
    "version": 3
   },
   "file_extension": ".py",
   "mimetype": "text/x-python",
   "name": "python",
   "nbconvert_exporter": "python",
   "pygments_lexer": "ipython3",
   "version": "3.12.5"
  }
 },
 "nbformat": 4,
 "nbformat_minor": 5
}
