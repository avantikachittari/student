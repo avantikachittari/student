{
 "cells": [
  {
   "cell_type": "raw",
   "id": "5d506f39",
   "metadata": {
    "vscode": {
     "languageId": "raw"
    }
   },
   "source": [
    "---\n",
    "layout: post\n",
    "title: Conditionals in Python by Ctrl-Zombies\n",
    "description: Conditionals homework in Python\n",
    "permalink: /python/nested_conditionals/zombies/hw\n",
    "Author: Aneesh Deevi, Moiz Lukmani, Perry Say\n",
    "---"
   ]
  },
  {
   "cell_type": "markdown",
   "id": "3a5fd5c2",
   "metadata": {},
   "source": [
    "# Nested Conditionals Python Homework\n",
    "---\n",
    "## Python Popcorn Hack"
   ]
  },
  {
   "cell_type": "code",
   "execution_count": 1,
   "id": "f8d935d2",
   "metadata": {},
   "outputs": [
    {
     "name": "stdout",
     "output_type": "stream",
     "text": [
      "☔ Don't forget your umbrella!\n"
     ]
    }
   ],
   "source": [
    "weather = \"rainy\"\n",
    "temperature = 50\n",
    "\n",
    "if weather == \"sunny\":\n",
    "    if temperature >= 70:  # fill in missing operator\n",
    "        print(\"It's warm and sunny!\")  # fill in missing string\n",
    "    else:\n",
    "        print(\"Could be a bit chilly, wear a jacket!\")\n",
    "else:\n",
    "    if weather == \"rainy\":   # fill in missing word\n",
    "        print(\"☔ Don't forget your umbrella!\")\n",
    "    else:\n",
    "        print(\"Have a nice day!\")  # fill in missing string\n"
   ]
  },
  {
   "cell_type": "markdown",
   "id": "ae4e9520",
   "metadata": {},
   "source": [
    "### Part A: Python Practice\n",
    "Write a code cell that helps decide what type of transportation someone should take.\n",
    "\n",
    "- If the **weather** is `\"rainy\"`:  \n",
    "  - If they have an umbrella -> print `\"Take the bus!\"`  \n",
    "  - If they don’t -> print `\"Call an Uber!\"`  \n",
    "- If the **weather** is `\"sunny\"`:  \n",
    "  - If they have a bike -> print `\"Bike!\"`  \n",
    "  - If they don’t -> print `\"Walk!\"`  \n",
    "\n",
    "---\n",
    "\n",
    "### Example Starter Code "
   ]
  },
  {
   "cell_type": "code",
   "execution_count": null,
   "id": "23a860e1",
   "metadata": {},
   "outputs": [],
   "source": [
    "weather = \"sunny\"\n",
    "has_umbrella = False\n",
    "has_bike = True\n"
   ]
  },
  {
   "cell_type": "code",
   "execution_count": 2,
   "id": "3dea2a33",
   "metadata": {},
   "outputs": [
    {
     "name": "stdout",
     "output_type": "stream",
     "text": [
      "Bike!\n"
     ]
    }
   ],
   "source": [
    "# Example variables\n",
    "weather = \"sunny\"\n",
    "has_umbrella = False\n",
    "has_bike = True\n",
    "\n",
    "# Decision making\n",
    "if weather == \"rainy\":\n",
    "    if has_umbrella:\n",
    "        print(\"Take the bus!\")\n",
    "    else:\n",
    "        print(\"Call an Uber!\")\n",
    "elif weather == \"sunny\":\n",
    "    if has_bike:\n",
    "        print(\"Bike!\")\n",
    "    else:\n",
    "        print(\"Walk!\")\n"
   ]
  }
 ],
 "metadata": {
  "kernelspec": {
   "display_name": ".venv",
   "language": "python",
   "name": "python3"
  },
  "language_info": {
   "codemirror_mode": {
    "name": "ipython",
    "version": 3
   },
   "file_extension": ".py",
   "mimetype": "text/x-python",
   "name": "python",
   "nbconvert_exporter": "python",
   "pygments_lexer": "ipython3",
   "version": "3.12.5"
  }
 },
 "nbformat": 4,
 "nbformat_minor": 5
}
