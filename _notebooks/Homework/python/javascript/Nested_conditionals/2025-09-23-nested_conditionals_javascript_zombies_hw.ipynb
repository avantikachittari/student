{
 "cells": [
  {
   "cell_type": "raw",
   "id": "859de763",
   "metadata": {
    "vscode": {
     "languageId": "raw"
    }
   },
   "source": [
    "---\n",
    "layout: post\n",
    "title: Conditionals in Javascript by Ctrl-Zombies\n",
    "description: Conditionals homework in Javascript\n",
    "permalink: /javascript/nested_conditionals/zombies/hw\n",
    "Author: Aneesh Deevi, Moiz Lukmani, Perry Say\n",
    "---"
   ]
  },
  {
   "cell_type": "markdown",
   "id": "eee8a8e6",
   "metadata": {},
   "source": [
    "# Nested Conditionals Javascript Homework"
   ]
  },
  {
   "cell_type": "markdown",
   "id": "ed97f2dd",
   "metadata": {},
   "source": [
    "## Practice Problems:"
   ]
  },
  {
   "cell_type": "markdown",
   "id": "c335a5d9",
   "metadata": {},
   "source": [
    "## Problem 1: Age and Movie Rating\n",
    "Write a program that asks for a person's age. If they are **under 13**, print *\"You can watch G or PG movies.\"* \n",
    "- If they are **13–17**, print *\"You can watch PG-13 movies.\"* \n",
    "- If they are **18 or older**, print *\"You can watch R-rated movies.\"*"
   ]
  },
  {
   "cell_type": "code",
   "execution_count": 14,
   "id": "4a19f878",
   "metadata": {
    "vscode": {
     "languageId": "javascript"
    }
   },
   "outputs": [
    {
     "data": {
      "application/javascript": "let ageInput = prompt(\"Enter age:\");\nlet age = parseInt(ageInput);\n\nif (isNaN(age)) {\n  console.log(\"Please enter a valid number for age.\");\n} else {\n  if (age < 13) {\n    console.log(\"You can watch G or PG movies.\");\n  } else if (age <= 17) {  // 13–17\n    console.log(\"You can watch PG-13 movies.\");\n  } else {  // 18 or older\n    console.log(\"You can watch R-rated movies.\");\n  }\n}\n",
      "text/plain": [
       "<IPython.core.display.Javascript object>"
      ]
     },
     "metadata": {},
     "output_type": "display_data"
    }
   ],
   "source": [
    "%%js\n",
    "let ageInput = prompt(\"Enter age:\");\n",
    "let age = parseInt(ageInput);\n",
    "\n",
    "if (isNaN(age)) {\n",
    "  console.log(\"Please enter a valid number for age.\");\n",
    "} else {\n",
    "  if (age < 13) {\n",
    "    console.log(\"You can watch G or PG movies.\");\n",
    "  } else if (age <= 17) {  // 13–17\n",
    "    console.log(\"You can watch PG-13 movies.\");\n",
    "  } else {  // 18 or older\n",
    "    console.log(\"You can watch R-rated movies.\");\n",
    "  }\n",
    "}"
   ]
  },
  {
   "cell_type": "markdown",
   "id": "35f58f57",
   "metadata": {},
   "source": [
    "## Problem 2: Grade Categorizer\n",
    "Ask the user for a grade percentage (0–100).\n",
    "- If the grade is 90 or higher, log \"A\".\n",
    "- Else if it is 80–89, log \"B\".\n",
    "- Else if it is 70–79, log \"C\".\n",
    "- Else if it is 60–69, log \"D\".\n",
    "- Otherwise, log \"F\""
   ]
  },
  {
   "cell_type": "code",
   "execution_count": 13,
   "id": "1e900dfd",
   "metadata": {
    "vscode": {
     "languageId": "javascript"
    }
   },
   "outputs": [
    {
     "data": {
      "application/javascript": "let gradeInput = prompt(\"Enter your grade percentage (0-100):\");\nlet grade = parseInt(gradeInput);\n\nif (isNaN(grade) || grade < 0 || grade > 100) {\n  console.log(\"Please enter a valid grade between 0 and 100.\");\n} else {\n  if (grade >= 90) {\n    console.log(\"A\");\n  } else if (grade >= 80) {\n    console.log(\"B\");\n  } else if (grade >= 70) {\n    console.log(\"C\");\n  } else if (grade >= 60) {\n    console.log(\"D\");\n  } else {\n    console.log(\"F\");\n  }\n}\n",
      "text/plain": [
       "<IPython.core.display.Javascript object>"
      ]
     },
     "metadata": {},
     "output_type": "display_data"
    }
   ],
   "source": [
    "%%js\n",
    "let gradeInput = prompt(\"Enter your grade percentage (0-100):\");\n",
    "let grade = parseInt(gradeInput);\n",
    "\n",
    "if (isNaN(grade) || grade < 0 || grade > 100) {\n",
    "  console.log(\"Please enter a valid grade between 0 and 100.\");\n",
    "} else {\n",
    "  if (grade >= 90) {\n",
    "    console.log(\"A\");\n",
    "  } else if (grade >= 80) {\n",
    "    console.log(\"B\");\n",
    "  } else if (grade >= 70) {\n",
    "    console.log(\"C\");\n",
    "  } else if (grade >= 60) {\n",
    "    console.log(\"D\");\n",
    "  } else {\n",
    "    console.log(\"F\");\n",
    "  }\n",
    "}\n"
   ]
  }
 ],
 "metadata": {
  "kernelspec": {
   "display_name": ".venv",
   "language": "python",
   "name": "python3"
  },
  "language_info": {
   "codemirror_mode": {
    "name": "ipython",
    "version": 3
   },
   "file_extension": ".py",
   "mimetype": "text/x-python",
   "name": "python",
   "nbconvert_exporter": "python",
   "pygments_lexer": "ipython3",
   "version": "3.12.5"
  }
 },
 "nbformat": 4,
 "nbformat_minor": 5
}
