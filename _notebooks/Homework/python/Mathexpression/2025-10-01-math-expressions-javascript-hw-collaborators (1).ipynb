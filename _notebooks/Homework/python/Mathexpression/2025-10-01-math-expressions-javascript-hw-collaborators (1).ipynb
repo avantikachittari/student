{
 "cells": [
  {
   "cell_type": "raw",
   "id": "b8140771",
   "metadata": {
    "vscode": {
     "languageId": "raw"
    }
   },
   "source": [
    "---\n",
    "layout: post\n",
    "title: Math expression Javascript hw\n",
    "description: This page will teach you about variables and assignments in programming.\n",
    "permalink: /csp/mathexp/javascripthw\n",
    "breadcrumb: True\n",
    "Author: \n",
    "---"
   ]
  },
  {
   "cell_type": "markdown",
   "id": "5b39efe0",
   "metadata": {},
   "source": [
    "# 📝 3.3 Homework: Variables & Arithmetic in Java\n",
    "\n",
    "## Learning Objectives\n",
    "1. Use **variables** in Java.  \n",
    "2. Follow **step-by-step sequencing**.  \n",
    "3. Use **arithmetic operators** (`+`, `-`, `*`, `/`).  \n",
    "\n",
    "---\n",
    "\n",
    "## Part 1: Simple Variables\n",
    "\n",
    "Write a Java program that does the following:\n",
    "\n",
    "1. Create a variable `grade1` and assign it the value `90`.  \n",
    "2. Create a variable `grade2` and assign it the value `80`.  \n",
    "3. Calculate the average of `grade1` and `grade2` and store it in `averageGrade`.  \n",
    "4. Display the average using `System.out.println()`.\n",
    "\n",
    "> Example Output:  \n",
    "> `The average is 85.0`  \n"
   ]
  },
  {
   "cell_type": "code",
   "execution_count": null,
   "id": "8d539eb9",
   "metadata": {
    "vscode": {
     "languageId": "javascript"
    }
   },
   "outputs": [
    {
     "data": {
      "application/javascript": "let grade1 = 90;\nlet grade2 = 80;\n\n// Step 3: Calculate the average\nlet averageGrade = (grade1 + grade2) / 2;\n\n// Step 4: Display the result\nconsole.log(\"The average is \" + averageGrade);\n",
      "text/plain": [
       "<IPython.core.display.Javascript object>"
      ]
     },
     "metadata": {},
     "output_type": "display_data"
    }
   ],
   "source": [
    "%%js\n",
    "let grade1 = 90;\n",
    "let grade2 = 80;\n",
    "\n",
    "// Step 3: Calculate the average\n",
    "let averageGrade = (grade1 + grade2) / 2;\n",
    "\n",
    "// Step 4: Display the result\n",
    "console.log(\"The average is \" + averageGrade);\n"
   ]
  },
  {
   "cell_type": "markdown",
   "id": "73b282f8",
   "metadata": {},
   "source": [
    "## Part 2: Arithmetic Practice\n",
    "\n",
    "Write a Java program to calculate these:\n",
    "\n",
    "1. `num1 = 10`  \n",
    "2. `num2 = 5`  \n",
    "3. `sum = num1 + num2`  \n",
    "4. `difference = num1 - num2`  \n",
    "5. `product = num1 * num2`  \n",
    "6. `quotient = num1 / num2`  \n",
    "7. Display all results using `System.out.println()`.  \n",
    "\n",
    "> Example Output:  \n",
    "> ```\n",
    "> Sum: 15\n",
    "> Difference: 5\n",
    "> Product: 50\n",
    "> Quotient: 2\n",
    "> ```"
   ]
  },
  {
   "cell_type": "code",
   "execution_count": 12,
   "id": "d1253a42",
   "metadata": {
    "vscode": {
     "languageId": "javascript"
    }
   },
   "outputs": [
    {
     "data": {
      "application/javascript": "let num1 = 10;\nlet num2 = 5;\n\nlet sum = num1 + num2;\nlet difference = num1 - num2;\nlet product = num1 * num2;\nlet quotient = num1 / num2;\n\nconsole.log(\"Sum: \" + sum);\nconsole.log(\"Difference: \" + difference);\nconsole.log(\"Product: \" + product);\nconsole.log(\"Quotient: \" + quotient);\n\n",
      "text/plain": [
       "<IPython.core.display.Javascript object>"
      ]
     },
     "metadata": {},
     "output_type": "display_data"
    }
   ],
   "source": [
    "%%js\n",
    "let num1 = 10;\n",
    "let num2 = 5;\n",
    "\n",
    "let sum = num1 + num2;\n",
    "let difference = num1 - num2;\n",
    "let product = num1 * num2;\n",
    "let quotient = num1 / num2;\n",
    "\n",
    "console.log(\"Sum: \" + sum);\n",
    "console.log(\"Difference: \" + difference);\n",
    "console.log(\"Product: \" + product);\n",
    "console.log(\"Quotient: \" + quotient);\n",
    "\n"
   ]
  },
  {
   "cell_type": "markdown",
   "id": "b91b4ddf",
   "metadata": {},
   "source": [
    "## Part 3: Step-by-Step Sequencing\n",
    "\n",
    "Write a Java program that does this sequence:\n",
    "\n",
    "1. Set `num1 = 2` and `num2 = 3`.  \n",
    "2. Calculate `num3 = num1 + num2`.  \n",
    "3. Calculate `num4 = num3 * 2`.  \n",
    "4. Display `num3` and `num4` using `System.out.println()`.  \n",
    "\n",
    "> This shows **sequencing**: each step depends on the previous one.\n"
   ]
  },
  {
   "cell_type": "code",
   "execution_count": null,
   "id": "7e3feb2d",
   "metadata": {
    "vscode": {
     "languageId": "javascript"
    }
   },
   "outputs": [
    {
     "data": {
      "application/javascript": "let num1 = 2;\nlet num2 = 3;\n\n// Step 2: Calculate num3\nlet num3 = num1 + num2;\n\n// Step 3: Calculate num4\nlet num4 = num3 * 2;\n\n// Step 4: Display results\nconsole.log(\"num3 = \" + num3);\nconsole.log(\"num4 = \" + num4);\n",
      "text/plain": [
       "<IPython.core.display.Javascript object>"
      ]
     },
     "metadata": {},
     "output_type": "display_data"
    }
   ],
   "source": [
    "%%js\n",
    "let num1 = 2;\n",
    "let num2 = 3;\n",
    "\n",
    "let num3 = num1 + num2;\n",
    "\n",
    "let num4 = num3 * 2;\n",
    "\n",
    "console.log(\"num3 = \" + num3);\n",
    "console.log(\"num4 = \" + num4);\n"
   ]
  },
  {
   "cell_type": "markdown",
   "id": "67a8e865",
   "metadata": {},
   "source": [
    "## Part 4: Mixed Arithmetic\n",
    "\n",
    "1. Set `a = 8`, `b = 4`, `c = 2`.  \n",
    "2. Calculate:  \n",
    "   - `result1 = a + b * c`  \n",
    "   - `result2 = (a + b) * c`  \n",
    "3. Display `result1` and `result2` using `System.out.println()`.  \n",
    "\n",
    "> This helps practice **order of operations**."
   ]
  },
  {
   "cell_type": "code",
   "execution_count": 16,
   "id": "713c4dad",
   "metadata": {
    "vscode": {
     "languageId": "javascript"
    }
   },
   "outputs": [
    {
     "data": {
      "application/javascript": "let a = 8;\nlet b = 4;\nlet c = 2;\n\n\nlet result1 = a + b * c;     \nlet result2 = (a + b) * c;   \n\n\nconsole.log(\"result1 = \" + result1);\nconsole.log(\"result2 = \" + result2);\n",
      "text/plain": [
       "<IPython.core.display.Javascript object>"
      ]
     },
     "metadata": {},
     "output_type": "display_data"
    }
   ],
   "source": [
    "%%js\n",
    "let a = 8;\n",
    "let b = 4;\n",
    "let c = 2;\n",
    "\n",
    "\n",
    "let result1 = a + b * c;     \n",
    "let result2 = (a + b) * c;   \n",
    "\n",
    "\n",
    "console.log(\"result1 = \" + result1);\n",
    "console.log(\"result2 = \" + result2);\n"
   ]
  }
 ],
 "metadata": {
  "kernelspec": {
   "display_name": ".venv",
   "language": "python",
   "name": "python3"
  },
  "language_info": {
   "codemirror_mode": {
    "name": "ipython",
    "version": 3
   },
   "file_extension": ".py",
   "mimetype": "text/x-python",
   "name": "python",
   "nbconvert_exporter": "python",
   "pygments_lexer": "ipython3",
   "version": "3.12.5"
  }
 },
 "nbformat": 4,
 "nbformat_minor": 5
}
