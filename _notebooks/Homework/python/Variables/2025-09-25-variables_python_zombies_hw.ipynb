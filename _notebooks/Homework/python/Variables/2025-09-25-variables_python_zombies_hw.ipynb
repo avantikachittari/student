{
 "cells": [
  {
   "cell_type": "raw",
   "id": "6d62ad69",
   "metadata": {
    "vscode": {
     "languageId": "raw"
    }
   },
   "source": [
    "---\n",
    "layout: post\n",
    "title: Variables & Assignments\n",
    "description: This page will provide homework for the variables and assigmnets lesson.\n",
    "permalink: /csp/variables/zombies/hw\n",
    "breadcrumb: True\n",
    "Author: Ethan Patel, Tanay Paranjpe, Neil Manjrekar\n",
    "---"
   ]
  },
  {
   "cell_type": "markdown",
   "id": "2b9da6aa",
   "metadata": {},
   "source": [
    "## Variables & Assignment Homework\n",
    "---\n",
    "Description:\n",
    "- In this homework hack, you will practice creating and using variables. You’ll define variables to store your name and age, reassign values, and answer interactive questions to test your understanding. This activity will help you master the basics of variables and how they work in programming."
   ]
  },
  {
   "cell_type": "markdown",
   "id": "352d458b",
   "metadata": {
    "vscode": {
     "languageId": "plaintext"
    }
   },
   "source": [
    "# 🏠 Strings Quest Homework\n",
    "\n",
    "**Objective:** Practice creating, manipulating, and combining strings in Python.\n",
    "\n",
    "---\n",
    "\n",
    "## Instructions\n",
    "\n",
    "Complete each challenge by **filling in the missing code**. Use the examples as a guide, but make sure to write your own values or logic.\n"
   ]
  },
  {
   "cell_type": "raw",
   "id": "39715e07",
   "metadata": {
    "vscode": {
     "languageId": "raw"
    }
   },
   "source": [
    "## Challenge 1: Creating a Life Profile with Variables"
   ]
  },
  {
   "cell_type": "code",
   "execution_count": null,
   "id": "13c521a9",
   "metadata": {},
   "outputs": [],
   "source": [
    "# Part 1\n",
    "## Personal info\n",
    "my_name = 'Avantika'        \n",
    "my_age = 14                 \n",
    "my_city = 'San Diego'       \n"
   ]
  },
  {
   "cell_type": "code",
   "execution_count": null,
   "id": "8d0ddb16",
   "metadata": {},
   "outputs": [],
   "source": [
    "# Part 2\n",
    "## Preferences\n",
    "favorite_color = 'blue'      \n",
    "favorite_food = 'pizza'      \n",
    "favorite_movie = 'Inception'  \n",
    "favorite_song = 'Happy'       \n"
   ]
  },
  {
   "cell_type": "code",
   "execution_count": 2,
   "id": "c4ed9a7e",
   "metadata": {},
   "outputs": [],
   "source": [
    "# Part 3\n",
    "# Reassign some variables\n",
    "favorite_food = 'sushi'   \n",
    "my_city = 'Wonderland'   \n",
    "has_pet = True            \n"
   ]
  },
  {
   "cell_type": "code",
   "execution_count": 3,
   "id": "5089502d",
   "metadata": {},
   "outputs": [
    {
     "ename": "NameError",
     "evalue": "name 'my_name' is not defined",
     "output_type": "error",
     "traceback": [
      "\u001b[31m---------------------------------------------------------------------------\u001b[39m",
      "\u001b[31mNameError\u001b[39m                                 Traceback (most recent call last)",
      "\u001b[36mCell\u001b[39m\u001b[36m \u001b[39m\u001b[32mIn[3]\u001b[39m\u001b[32m, line 7\u001b[39m\n\u001b[32m      4\u001b[39m likes_music = \u001b[38;5;28;01mTrue\u001b[39;00m    \u001b[38;5;66;03m# Boolean: Do you like music?\u001b[39;00m\n\u001b[32m      6\u001b[39m \u001b[38;5;66;03m# Part 5: Print Your Life Profile\u001b[39;00m\n\u001b[32m----> \u001b[39m\u001b[32m7\u001b[39m \u001b[38;5;28mprint\u001b[39m(\u001b[33m\"\u001b[39m\u001b[33mName:\u001b[39m\u001b[33m\"\u001b[39m, \u001b[43mmy_name\u001b[49m)\n\u001b[32m      8\u001b[39m \u001b[38;5;28mprint\u001b[39m(\u001b[33m\"\u001b[39m\u001b[33mAge:\u001b[39m\u001b[33m\"\u001b[39m, my_age)\n\u001b[32m      9\u001b[39m \u001b[38;5;28mprint\u001b[39m(\u001b[33m\"\u001b[39m\u001b[33mCity:\u001b[39m\u001b[33m\"\u001b[39m, my_city)\n",
      "\u001b[31mNameError\u001b[39m: name 'my_name' is not defined"
     ]
    }
   ],
   "source": [
    "# Part 4: Define additional status variables\n",
    "is_student = True     # Boolean: Are you a student?\n",
    "is_online = False     # Boolean: Are you online?\n",
    "likes_music = True    # Boolean: Do you like music?\n",
    "\n",
    "# Part 5: Print Your Life Profile\n",
    "print(\"Name:\", my_name)\n",
    "print(\"Age:\", my_age)\n",
    "print(\"City:\", my_city)\n",
    "print(\"Favorite color:\", favorite_color)\n",
    "print(\"Favorite food:\", favorite_food)\n",
    "print(\"Favorite movie:\", favorite_movie)\n",
    "print(\"Favorite song:\", favorite_song)\n",
    "print(\"Student?\", is_student)\n",
    "print(\"Has pet?\", has_pet)\n",
    "print(\"Online?\", is_online)\n",
    "print(\"Likes music?\", likes_music)\n"
   ]
  },
  {
   "cell_type": "markdown",
   "id": "748cd3e2",
   "metadata": {},
   "source": [
    "# Task 2 "
   ]
  },
  {
   "cell_type": "markdown",
   "id": "a775e8cf",
   "metadata": {
    "vscode": {
     "languageId": "html"
    }
   },
   "source": [
    "## Creative Challenge \n",
    "\n",
    "Your task: Create a “story” or “profile” using **ONLY variables and assignments**.  \n",
    "\n",
    "\n",
    "### Instructions:\n",
    "\n",
    "1. **Create at least 8 variables** to describe a character or yourself.  \n",
    "   Examples:  \n",
    "   `name`, `age`, `favorite_food`, `hobby`, `number_of_pets`, `mood`, `favorite_color`, `dream_job`\n",
    "\n",
    "2. **Assign initial values** to all variables.\n",
    "\n",
    "3. **Reassign at least 4 of the variables** to new values to simulate changes over time or “events” in the story.\n",
    "\n",
    "4. Use **print statements** to write a story or profile that is **at least 5 sentences long**.  \n",
    "   Each sentence should include at least one variable.  \n",
    "   Example:  \n",
    "   > \"Tanay ('age' 17) loves pizza and plays tennis ('hobby') every weekend. Today, Tanay is happy because he ate his ('favoirite_food').\"\n",
    "\n",
    "5. Optional: Add **extra variables** to make your story longer and more creative.  \n",
    "   You can also create “day 2”, “day 3”, etc., by reassigning variables and printing new sentences.\n",
    "\n",
    "### Goal:\n",
    "\n",
    "- Show creativity while practicing:  \n",
    "  - Variable creation  \n",
    "  - Variable reassignment  \n",
    "  - Using variables in print statements\n",
    "  - Experiment with assigment and reassigment to update variables \n"
   ]
  },
  {
   "cell_type": "markdown",
   "id": "d75a4417",
   "metadata": {},
   "source": []
  },
  {
   "cell_type": "code",
   "execution_count": 4,
   "id": "7d9e44c8",
   "metadata": {},
   "outputs": [
    {
     "name": "stdout",
     "output_type": "stream",
     "text": [
      "Avi is 13 years old and loves chocolate cake.\n",
      "Her favorite hobby used to be astronomy, but now she spends her time stargazing.\n",
      "Avi has 2 pets who keep her company during her adventures.\n",
      "She is feeling very excited because she discovered a new constellation in the sky.\n",
      "In the future, Avi dreams of becoming a astronaut, exploring the universe and learning new things.\n",
      "Every day, she wears her favorite color, purple, while imagining space adventures.\n",
      "Today, Avi is determined and has 3 pets cheering her on.\n",
      "She celebrates with a slice of strawberry tart before heading out for her astronomy hobby.\n"
     ]
    }
   ],
   "source": [
    "# --- Step 1 & 2: Create initial variables ---\n",
    "name = 'Avi'\n",
    "age = 100000\n",
    "favorite_food = 'ice cream'\n",
    "hobby = 'painting'\n",
    "number_of_pets = 1\n",
    "mood = 'happy'\n",
    "favorite_color = 'purple'\n",
    "dream_job = 'astronaut'\n",
    "\n",
    "# --- Step 3: Reassign variables to simulate changes ---\n",
    "age = 13\n",
    "favorite_food = 'chocolate cake'\n",
    "number_of_pets = 2\n",
    "mood = 'excited'\n",
    "hobby = 'astronomy'\n",
    "\n",
    "# --- Step 4: Print story using variables ---\n",
    "print(f\"{name} is {age} years old and loves {favorite_food}.\")\n",
    "print(f\"Her favorite hobby used to be {hobby}, but now she spends her time stargazing.\")\n",
    "print(f\"{name} has {number_of_pets} pets who keep her company during her adventures.\")\n",
    "print(f\"She is feeling very {mood} because she discovered a new constellation in the sky.\")\n",
    "print(f\"In the future, {name} dreams of becoming a {dream_job}, exploring the universe and learning new things.\")\n",
    "print(f\"Every day, she wears her favorite color, {favorite_color}, while imagining space adventures.\")\n",
    "\n",
    "# --- Optional: further events ---\n",
    "mood = 'determined'\n",
    "number_of_pets = 3\n",
    "favorite_food = 'strawberry tart'\n",
    "\n",
    "print(f\"Today, {name} is {mood} and has {number_of_pets} pets cheering her on.\")\n",
    "print(f\"She celebrates with a slice of {favorite_food} before heading out for her astronomy hobby.\")\n"
   ]
  }
 ],
 "metadata": {
  "kernelspec": {
   "display_name": ".venv",
   "language": "python",
   "name": "python3"
  },
  "language_info": {
   "codemirror_mode": {
    "name": "ipython",
    "version": 3
   },
   "file_extension": ".py",
   "mimetype": "text/x-python",
   "name": "python",
   "nbconvert_exporter": "python",
   "pygments_lexer": "ipython3",
   "version": "3.12.5"
  }
 },
 "nbformat": 4,
 "nbformat_minor": 5
}
